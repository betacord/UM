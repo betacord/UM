{
  "cells": [
    {
      "cell_type": "markdown",
      "metadata": {
        "id": "Ok4ofZIH5qNP"
      },
      "source": [
        "# Lab 3 - oczyszczanie danych"
      ]
    },
    {
      "cell_type": "markdown",
      "metadata": {
        "id": "Byuw32Ai5sU_"
      },
      "source": [
        "Dane w surowej formie nie zawsze nadają się do trenowania modeli predykcyjnych. Jedną z najczęstszych przyczyn zanieczyszczenia danych są brakujące wartości w poszczególnych atrybutach. Istnieją trzy popularne rozwiązania ,,walki\" z wartościami brakującymi:\n",
        "- usunięcie wierszy z wybrakowanymi wartościami,\n",
        "- usunięcie całego atrybutu z wartościami wybrakowanymi,\n",
        "- uzupełnienie wybranych wartości wybraną strategią.\n",
        "\n",
        "Dobór rozwiązania w dużym stopniu zależy od charakteru zbioru danych oraz wartości wybrakowanych. W najbardziej idealnym scenariuszu należy sprawdzić efekt zapewniany przez wszystkie poznane rozwiązania, lecz w przypadku ograniczonych zasobów obliczeniowych może nie zawsze być to osiągalne. W praktyce można spotkać się z intyicyjnymi podejściami, które polegają na usuwaniu wierszy z brakującymi wartościami w przypadku ich niewielkiej liczebności, np. do ok. 0.1% oryginalnego zbioru danych. Podejście na usunięciu całego atrybutu sprawdza się gdy znaczna częśc wartości atrybutu jest wybrakowana. W pozostałych przypadkach najlepiej powinno sprawdzić się uzupełnianie wartości według obranej strategii. Wśród najbardziej typowych strategii uzupełniania wartości wybrakowanych warto wymienić następujące:\n",
        "- średnia arytmetyczna lub mediana (dla wartości rzeczywistych),\n",
        "- dominanta (dla danych kategorialnych).\n",
        "\n",
        "Wśród popularnych podejść można znaleźć także związane z wytrenowanymi predyktorami:\n",
        "- kNN: dopasowuje brakującą wartość na podstawie najbliższych sąsiadów pozostałych uzupełnionych wartości,\n",
        "- regresor: dopasowuje brakującą wartość na podstawie modelu regresyjnego wytrenowanego na podstawie uzupełnionych wartości.\n",
        "\n",
        "Wśród pozostałych metod warto zwrócić także uwagę na kontekst atrybutu, w którym występuje brakująca wartość. Przykładowo, jeżeli wybrakowana wartość dotyczy atrybutu poziomu leukocytów we krwi, warto sprawdzić jakie są normy, a następnie wylosować na podstawie wybranego rozkładu prawdopodobieństwa (np. gaussowskiego) wartość w przedziale stanowiącym normę populacji."
      ]
    },
    {
      "cell_type": "markdown",
      "metadata": {
        "id": "aJhH17KJ9pCb"
      },
      "source": [
        "## Oczyszczanie danych na podstawie funkcjonalności biblioteki pandas"
      ]
    },
    {
      "cell_type": "code",
      "execution_count": null,
      "metadata": {
        "id": "1LGk_AaKBWUk"
      },
      "outputs": [],
      "source": [
        "from sklearn.datasets import fetch_california_housing\n",
        "\n",
        "data = fetch_california_housing(as_frame=True)['frame']"
      ]
    },
    {
      "cell_type": "code",
      "execution_count": null,
      "metadata": {
        "id": "p3jllUBQBhd8"
      },
      "outputs": [],
      "source": [
        "data"
      ]
    },
    {
      "cell_type": "markdown",
      "metadata": {
        "id": "hk_J5TDpArPS"
      },
      "source": [
        "Metoda *isnull* wywołana na obiekcie klasy Series zwróci serię wartości logicznych odpowiadających temu czy dana wartośc w kolumnie jest wybrakowana."
      ]
    },
    {
      "cell_type": "code",
      "execution_count": null,
      "metadata": {
        "id": "4ZYUAhyH5h2D"
      },
      "outputs": [],
      "source": [
        "data['MedInc'].isnull()"
      ]
    },
    {
      "cell_type": "markdown",
      "metadata": {
        "id": "qTTbFw8WA0hD"
      },
      "source": [
        "Za pomocą metody *any* wywołanej na powstałej w ten sposób ramce można sprawdzić czy występuje tam przynajmniej jedna wartość prawdziwa. Metoda all umożliwia sprawdzenie czy w ramce występują tylko i wyłącznie wartości prawdziwe."
      ]
    },
    {
      "cell_type": "code",
      "execution_count": null,
      "metadata": {
        "colab": {
          "base_uri": "https://localhost:8080/"
        },
        "id": "-_XYhaRCA1BF",
        "outputId": "4e1d2697-57e6-4283-bc18-e0e7083b8af5"
      },
      "outputs": [],
      "source": [
        "data['MedInc'].isnull().any()"
      ]
    },
    {
      "cell_type": "markdown",
      "metadata": {
        "id": "HT0EU49KDUjF"
      },
      "source": [
        "Za pomocą odwołania się do osi kolumn (parametr *axis=0* w metodzie *any*) można z łatwością sprawdzić w których kolumnach występują wartości wybrakowane."
      ]
    },
    {
      "cell_type": "code",
      "execution_count": null,
      "metadata": {
        "id": "xRCnSTyrDMPN"
      },
      "outputs": [],
      "source": [
        "data.isnull().any(axis=0)"
      ]
    },
    {
      "cell_type": "code",
      "execution_count": null,
      "metadata": {
        "id": "G_PVfLFzET7r"
      },
      "outputs": [],
      "source": [
        "# przykladowy kod usuwajacy kilka wartosci metoda chybil-trafil\n",
        "from random import randint\n",
        "\n",
        "# minimalny i maksymalny odsetek komorek do usuniecia wartosci\n",
        "min_percent, max_percent = 0.001, 0.003\n",
        "\n",
        "# wyznacza pseudolosowo od 0.1 do 0.3% komórek z ramki danych\n",
        "cells_to_remove = randint(int(data.size * min_percent), int(data.size * max_percent))\n",
        "\n",
        "# pseudolosowy wybor indeksow wierszy i kolumn\n",
        "for _ in range(cells_to_remove):\n",
        "  row_idx = randint(0, data.shape[0] - 1)  # pseudolosowy indeks wiersza\n",
        "  col_idx = randint(0, data.shape[1] - 1)  # pseudolosowy indeks kolumny\n",
        "\n",
        "  # usuniecie pseudolosowo wskazanej komorki\n",
        "  data.iat[row_idx, col_idx] = None"
      ]
    },
    {
      "cell_type": "code",
      "execution_count": null,
      "metadata": {
        "id": "yDeixu_GFTIL"
      },
      "outputs": [],
      "source": [
        "data.isnull().any(axis=0)"
      ]
    },
    {
      "cell_type": "markdown",
      "metadata": {
        "id": "-1Vkk5HHA8Si"
      },
      "source": [
        "Jeżeli w kolumnie występują wartości wybrakowane, można je uzupełnić wskazaną wartością."
      ]
    },
    {
      "cell_type": "code",
      "execution_count": null,
      "metadata": {
        "id": "GF5haBuRA_WG"
      },
      "outputs": [],
      "source": [
        "data['MedInc'].fillna(0)"
      ]
    },
    {
      "cell_type": "markdown",
      "metadata": {
        "id": "mM-oj5wyBE4Z"
      },
      "source": [
        "Aby umieścić wartości wybrakowane w oryginalnej ramce danych należy użyć metody *fillna* na obiekcie klasy DataFrame przekazując jako parametr słownik mapujący nazwy kolumn na wartości, którymi mają zostać zastąpione wartości wybrakowane."
      ]
    },
    {
      "cell_type": "code",
      "execution_count": null,
      "metadata": {
        "id": "RYlPlrZ-BHa9"
      },
      "outputs": [],
      "source": [
        "data.fillna({\n",
        "    'Longitude': 0,\n",
        "    'Latitude': 100,\n",
        "})"
      ]
    },
    {
      "cell_type": "markdown",
      "metadata": {
        "id": "82BMo03bHOq_"
      },
      "source": [
        "Biblioteka pandas dostarcza metod wyznaczających podstawowe (i bardziej zaawansowane) statystyki. Na szczególną uwagę zasługują metody *mean()* i *median()*, które zwracają odpowiednio średnią arytmetyczną i medianę wartości ze wskazanego atrybutu."
      ]
    },
    {
      "cell_type": "code",
      "execution_count": null,
      "metadata": {
        "id": "iFq6j2pkGdXr"
      },
      "outputs": [],
      "source": [
        "data['MedHouseVal'].mean()"
      ]
    },
    {
      "cell_type": "code",
      "execution_count": null,
      "metadata": {
        "id": "x-THZPqmH1_n"
      },
      "outputs": [],
      "source": [
        "data['MedHouseVal'].median()"
      ]
    },
    {
      "cell_type": "markdown",
      "metadata": {
        "id": "C_g81JS2IDWu"
      },
      "source": [
        "W przypadku wyznaczania dominanty zastosowanie znajduje metoda *mode()*. Należy jednak pamiętać, że dominantą nie zawsze musi być tylko jedna wartość."
      ]
    },
    {
      "cell_type": "code",
      "execution_count": null,
      "metadata": {
        "id": "6Wvi0GbeH3of"
      },
      "outputs": [],
      "source": [
        "data['Population'].mode().iloc[0]"
      ]
    },
    {
      "cell_type": "markdown",
      "metadata": {
        "id": "NAmTXe6DIiz4"
      },
      "source": [
        "## Oczyszczanie danych z biblioteką Scikit-learn\n",
        "\n",
        "Oprócz biblioteki *pandas*, biblioteka *Scikit-learn* zawiera także obszerny zestaw narzędzi do pracy z oczyszczaniem danych, w szczególności z uzupełnianiem danych wybrakowanych. Przeznaczona do tego celu klasa *SimpleImputer* przyjmuje w inicjalizatorze parametr *strategy*, w którym należy wskazać metodę uzupełniania brakujących wartości:\n",
        "- mean,\n",
        "- median\n",
        "- most_frequent,\n",
        "- constant."
      ]
    },
    {
      "cell_type": "code",
      "execution_count": null,
      "metadata": {
        "id": "I1yZ2_ffIPxX"
      },
      "outputs": [],
      "source": [
        "from sklearn.impute import SimpleImputer\n",
        "\n",
        "imputer = SimpleImputer(strategy='median')"
      ]
    },
    {
      "cell_type": "markdown",
      "metadata": {
        "id": "fKq_Vz9CLxvG"
      },
      "source": [
        "Przed właściwym uzupełnieniem wartości należy najpierw wybrać zestaw pasujących atrybutów, dla których zostanie zastosowana wybrana strategia."
      ]
    },
    {
      "cell_type": "code",
      "execution_count": null,
      "metadata": {
        "id": "cXqmVja3KKiM"
      },
      "outputs": [],
      "source": [
        "num_attributes = data.select_dtypes(include=['number'])"
      ]
    },
    {
      "cell_type": "code",
      "execution_count": null,
      "metadata": {
        "id": "q7b00BOhKbn_"
      },
      "outputs": [],
      "source": [
        "num_attributes"
      ]
    },
    {
      "cell_type": "code",
      "execution_count": null,
      "metadata": {
        "id": "uiiDA4o8LPZg"
      },
      "outputs": [],
      "source": [
        "num_attributes.isnull().any(axis=0)"
      ]
    },
    {
      "cell_type": "markdown",
      "metadata": {
        "id": "tMINBByLLoAv"
      },
      "source": [
        "Wywołanie metody *fit* na utworzonym obiekcie pozwoli na automatyczne wyznaczenie wartości do uzupełnienia w każdym z atrybutów."
      ]
    },
    {
      "cell_type": "code",
      "execution_count": null,
      "metadata": {
        "id": "4Ks3f2gZKZhW"
      },
      "outputs": [],
      "source": [
        "imputer.fit(num_attributes)"
      ]
    },
    {
      "cell_type": "markdown",
      "metadata": {
        "id": "P6BsYS2YKwsf"
      },
      "source": [
        "W atrybucie *statistics_* zawarte są wyznaczone wartości do zastąpenia brakujących według obranej strategii."
      ]
    },
    {
      "cell_type": "code",
      "execution_count": null,
      "metadata": {
        "id": "Qq8XFMn7Kr0B"
      },
      "outputs": [],
      "source": [
        "imputer.statistics_"
      ]
    },
    {
      "cell_type": "markdown",
      "metadata": {
        "id": "ASFZsDgvK5ge"
      },
      "source": [
        "Do zastąpienia brakujących wartości przeznaczona jest metoda *transform*."
      ]
    },
    {
      "cell_type": "code",
      "execution_count": null,
      "metadata": {
        "id": "RAoZNtFGLAt1"
      },
      "outputs": [],
      "source": [
        "new_num_attributes = imputer.transform(num_attributes)"
      ]
    },
    {
      "cell_type": "code",
      "execution_count": null,
      "metadata": {
        "id": "jH7NnBcSLS77"
      },
      "outputs": [],
      "source": [
        "import pandas as pd\n",
        "\n",
        "new_num_attributes = pd.DataFrame(new_num_attributes, columns=data.columns)"
      ]
    },
    {
      "cell_type": "code",
      "execution_count": null,
      "metadata": {
        "id": "0yug6MuXLi6o"
      },
      "outputs": [],
      "source": [
        "new_num_attributes"
      ]
    },
    {
      "cell_type": "code",
      "execution_count": null,
      "metadata": {
        "id": "uNz3ZJYiLeF9"
      },
      "outputs": [],
      "source": [
        "new_num_attributes.isnull().any(axis=0)"
      ]
    },
    {
      "cell_type": "markdown",
      "metadata": {
        "id": "IFF-36FOJjji"
      },
      "source": [
        "Z uwagi na różnice między interfejsami bibliotek *pandas* i *Scikit-learn* warto zwrócić uwagę na typowe aspekty interfejsu aktualnie używanego narzędzia. Wykorzystywane są dwie niezależne metody: *fit* oraz *transform*. Wywołanie metody fit oznacza dopasowanie do aktualnie przekazanej ramki danych i wyznaczenie na jej podstawie wartości do uzupełnienia. Analogicznie wygląda sytuacja dla przekazanego atrybutu. Wywołanie metody *transform* spowoduje faktyczne uzupełnienie brakujących wartości i zwrócenie utworzonego w ten sposób nowego obiektu będącego pełną ramką danych. Warto więc mieć na uwadze, że próba wywołania metody *transform* po wywołaniu metody *fit* na innym zbiorze danych może kompletnie mijać się z celem."
      ]
    },
    {
      "cell_type": "markdown",
      "metadata": {
        "id": "oeT0aJyRL6D6"
      },
      "source": [
        "## Zadania\n",
        "\n",
        "1. Pobrać i wczytać zbiór danych danych dostępny pod adresem: https://archive.ics.uci.edu/dataset/10/automobile\n",
        "\n",
        "2. Wartości wybrakowane w zbiorze oznaczone są symbolem \"?\". W celu zamiany na wartość *None* - dopasowaną do języka Python - można wykorzystać metodę *replace* wywoływaną na obiekcie ramki *pandas*. Utworzyć głęboką kopię powstałej w ten sposób ramki danych (funkcja [deepcopy](https://docs.python.org/3/library/copy.html)).\n",
        "\n",
        "3. Zastosować poznane metody uzupełniania wartości wybrakowanych dopasowanych do typów danych w atrybutach za pomocą biblioteki *pandas*. W przypadku gdy do danego typu pasuje więcej niż jedna strategia (np. do typu ciągłego numerycznego: mediana i średnia arytmetyczna), utworzyć dwie wersje kolumn (np. col1\\_mean i col1\\_median), gdzie w każdej będą wartości uzupełnione inną strategią.\n",
        "\n",
        "4. Na podstawie utworzonej kopii ramki z punktu 2, powtórzyć kroki z punktu 3, ale przy użyciu biblioteki *Scikit-learn*.\n",
        "\n"
      ]
    },
    {
      "cell_type": "code",
      "execution_count": null,
      "metadata": {
        "id": "DAkBB6AHbgky"
      },
      "outputs": [],
      "source": []
    }
  ],
  "metadata": {
    "colab": {
      "provenance": []
    },
    "kernelspec": {
      "display_name": "Python 3",
      "name": "python3"
    },
    "language_info": {
      "name": "python"
    }
  },
  "nbformat": 4,
  "nbformat_minor": 0
}
