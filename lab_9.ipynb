{
  "cells": [
    {
      "cell_type": "markdown",
      "metadata": {
        "id": "onx5uFtOuCbq"
      },
      "source": [
        "# Lab 9 - Uczenie nadzorowane"
      ]
    },
    {
      "cell_type": "markdown",
      "metadata": {
        "id": "mqsZaYd_ydrr"
      },
      "source": [
        "Biblioteka **Scikit-learn** to narzędzie stworzone z myslą o projektowaniu systemów uczących się. Dzięki ujednoliconemu interfejsowi (metody *fit*, *transform* i *predict*), trening i zastosowanie estymatorów jest równie intuicyjne, co wykorzystanie metod przetwarzających dane."
      ]
    },
    {
      "cell_type": "markdown",
      "metadata": {
        "id": "Aua9irpN0GiJ"
      },
      "source": [
        "## Klasyfikacja"
      ]
    },
    {
      "cell_type": "markdown",
      "metadata": {
        "id": "epfucHlT0O9N"
      },
      "source": [
        "Klasyfikacja to proces przypisywania obiektów do określonych klas decyzyjnych pochodzących ze skończonego zbioru, na podstawie ich cech lub właściwości. Modele decyzyjne, stanowiące podstawę procesu klasyfikacji, konstruuje się na podstawie szerokiej gamy metod matematycznych, takich jak optymalizacja, czy wnioskowanie logiczne i bayesowskie. Ostateczna skuteczność procesu klasyfikacji zależy od wyboru odpowiednich atrybutów, algorytmu oraz optymalnych parametrów i hiperparametrów modelu."
      ]
    },
    {
      "cell_type": "code",
      "execution_count": null,
      "metadata": {
        "id": "sS6vyJUa6KGI"
      },
      "outputs": [],
      "source": [
        "import pandas as pd\n",
        "from sklearn.preprocessing import MinMaxScaler\n",
        "from sklearn.metrics import accuracy_score, balanced_accuracy_score"
      ]
    },
    {
      "cell_type": "code",
      "execution_count": null,
      "metadata": {
        "id": "K7mdJXZ76Nma"
      },
      "outputs": [],
      "source": [
        "mnist_train = pd.read_csv('/content/sample_data/mnist_train_small.csv', names=['digit'] + [f'px_{i + 1}' for i in range(784)])\n",
        "mnist_test = pd.read_csv('/content/sample_data/mnist_test.csv', names=['digit'] + [f'px_{i + 1}' for i in range(784)])"
      ]
    },
    {
      "cell_type": "code",
      "execution_count": null,
      "metadata": {
        "colab": {
          "base_uri": "https://localhost:8080/",
          "height": 419
        },
        "id": "T-wKoqth6Rtr",
        "outputId": "6d07879d-c142-4a17-8561-a5c2923e0502"
      },
      "outputs": [],
      "source": [
        "mnist_train"
      ]
    },
    {
      "cell_type": "code",
      "execution_count": null,
      "metadata": {
        "id": "YeEL7Y5m7QZz"
      },
      "outputs": [],
      "source": [
        "X_train, y_train = mnist_train[list(set(mnist_train) - set('digit'))], mnist_train['digit']\n",
        "X_test, y_test = mnist_test[list(set(mnist_test) - set('digit'))], mnist_test['digit']"
      ]
    },
    {
      "cell_type": "code",
      "execution_count": null,
      "metadata": {
        "id": "vyF2DMv88U3D"
      },
      "outputs": [],
      "source": [
        "scaler = MinMaxScaler()\n",
        "scaler.fit(X_train)\n",
        "\n",
        "X_train_scaled = scaler.transform(X_train)\n",
        "X_test_scaled = scaler.transform(X_test)"
      ]
    },
    {
      "cell_type": "markdown",
      "metadata": {
        "id": "iNm_3Xuv1IXC"
      },
      "source": [
        "### K-NN\n",
        "\n",
        "Algorytm k-nn (k-najbliższych sąsiadów) w kontekście klasyfikacji opiera się na zasadzie przypisywania klasy nowego obiektu na podstawie większości przynależących do niego k najbliższych sąsiadów w przestrzeni cech. Wybór odpowiedniej wartości parametru k wpływa na balans między skomplikowaniem a stabilnością modelu, gdzie mniejsze wartości k mogą prowadzić do nadmiernego dopasowania, a większe do zwiększenia wariancji modelu. Efektywność algorytmu k-nn w dużej mierze zależy od właściwego dobrania metryki odległości oraz odpowiedniego przetwarzania danych wejściowych."
      ]
    },
    {
      "cell_type": "markdown",
      "metadata": {
        "id": "NHkixsPy10nZ"
      },
      "source": [
        "Wykorzystanie algorytmu k-nn w procesie klasyfikacji polega na zastosowaniu klasy [KNeighborsClassifier](https://https://scikit-learn.org/stable/modules/neighbors.html#nearest-neighbors-classification), która przyjmuje następujące parametry:\n",
        "- n_neighbors (int) - liczba najbliższych sąsiadów\n",
        "- weights (str | callable) - metoda wyznaczania wag dla najbliższych sąsiadów\n",
        "  - uniform (domyślne) - jednakowa waga dla wszystkich najbliższych sąsiadów\n",
        "  - distance - wyższa waga dla bliższych sąsiadów\n",
        "- algorithm (str) - algorytm wyznaczający najbliższych sąsiadów\n",
        "  - ball_tree\n",
        "  - kd_tree\n",
        "  - brute\n",
        "  - auto (domyślne)\n",
        "- leaf_size (int) - wielkość liścia w drzewie stosowanym w algorytmach ball_tree i kd_tree\n",
        "- p (int) - parametr metryki Minkowskiego (jeżeli jest wykorzystywana)\n",
        "- metric (str | callable) - metryka odległości wykorzystywana przy wyznaczaniu najbliższych sąsiadów\n",
        "- metric_params (str) - dodatkowy słownik parametrów przekazywany do wybranej metryki\n",
        "- n_jobs (int) - liczba równoległych wątków"
      ]
    },
    {
      "cell_type": "code",
      "execution_count": null,
      "metadata": {
        "id": "hDMUsY67t9_e"
      },
      "outputs": [],
      "source": [
        "from sklearn.neighbors import KNeighborsClassifier"
      ]
    },
    {
      "cell_type": "code",
      "execution_count": null,
      "metadata": {
        "colab": {
          "base_uri": "https://localhost:8080/",
          "height": 74
        },
        "id": "zqbjRlXu7DKW",
        "outputId": "2dcec39b-dd8d-4754-8e1a-f19140bba795"
      },
      "outputs": [],
      "source": [
        "model = KNeighborsClassifier(n_neighbors=5)\n",
        "model.fit(X_train, y_train)"
      ]
    },
    {
      "cell_type": "code",
      "execution_count": null,
      "metadata": {
        "id": "Ji2sfL3s8wgr"
      },
      "outputs": [],
      "source": [
        "y_pred = model.predict(X_test)"
      ]
    },
    {
      "cell_type": "code",
      "execution_count": null,
      "metadata": {
        "colab": {
          "base_uri": "https://localhost:8080/"
        },
        "id": "_8aD02QG-Ip5",
        "outputId": "8eef8ba3-4591-4f5d-d460-6c9b40bc1754"
      },
      "outputs": [],
      "source": [
        "y_pred"
      ]
    },
    {
      "cell_type": "code",
      "execution_count": null,
      "metadata": {
        "colab": {
          "base_uri": "https://localhost:8080/"
        },
        "id": "9b0Yf4HL8_Pa",
        "outputId": "01945038-2433-44d0-e544-8c6ae6864de9"
      },
      "outputs": [],
      "source": [
        "accuracy_score(y_test, y_pred)"
      ]
    },
    {
      "cell_type": "code",
      "execution_count": null,
      "metadata": {
        "colab": {
          "base_uri": "https://localhost:8080/"
        },
        "id": "XuYMJody-MCW",
        "outputId": "87947dc6-9163-49e7-ee94-a2dcd9409763"
      },
      "outputs": [],
      "source": [
        "balanced_accuracy_score(y_test, y_pred)"
      ]
    },
    {
      "cell_type": "markdown",
      "metadata": {
        "id": "kJ3J0Hki_MXo"
      },
      "source": [
        "### Drzewo decyzyjne\n",
        "\n",
        "Drzewo decyzyjne jest klasyfikatorem (a także regresorem), który hierarchicznie dzieli przestrzeń atrybutów, aby efektywnie przyporządkować obiekty do różnych klas. Wybór podziałów opiera się na cechach, które najlepiej segregują dane według kryteriów decyzyjnych, takich jak entropia czy wskaźnik Giniego. Ostateczna struktura drzewa umożliwia interpretację procesu klasyfikacji, a optymalizacja parametrów, takich jak głębokość drzewa, ma istotny wpływ na jego zdolność do generalizacji decyzji."
      ]
    },
    {
      "cell_type": "markdown",
      "metadata": {
        "id": "PpFpHZKGbQpW"
      },
      "source": [
        "Wykorzystanie drzewa decyzyjnego w procesie klasyfikacji polega na zastosowaniu klasy [DecisionTreeClassifier](https://scikit-learn.org/stable/modules/generated/sklearn.tree.DecisionTreeClassifier.html), która przyjmuje następujące parametry:\n",
        "- criterion (str) - kryterium podziału atrybutów\n",
        "  - gini (domyślny)\n",
        "  - entropy\n",
        "  - log_loss\n",
        "- splitter (str) - typ podziału\n",
        "  - best (domyślny) - podział według najlepszego kryterium\n",
        "  - random - podział losowy\n",
        "- max_depth (int) - maksymalna głębokośc drzewa\n",
        "- min_samples_split (int) - minimalna liczba obiektów do dokonania podziału\n",
        "- min_samples_leaf (int) - minimalna liczba obiektów tworząca liść\n",
        "- min_weight_fraction_leaf (float) - minimalny odsetek sumy ważonej wag obiektów tworzących liść\n",
        "- max_features (int) - maksymalna liczba atrybutów podczas dokonywania podziału\n",
        "- random_state (int) - tzw. ziarno losowości\n",
        "- max_leaf_nodes (int) - maksymalna liczba liści\n",
        "- min_impurity_decrease (float) - próg zmiany zanieczyszczenia wartości w węźle do dokonania podziału\n",
        "- class_weight (dict | list | str) - wagi przypisane klasom decyzyjnym\n",
        "- ccp_alpha (float) - parametr używany do przycinania drzew przy uwzględnieniu kosztu"
      ]
    },
    {
      "cell_type": "code",
      "execution_count": null,
      "metadata": {
        "id": "NvOrHx3v-NvC"
      },
      "outputs": [],
      "source": [
        "from sklearn.tree import DecisionTreeClassifier"
      ]
    },
    {
      "cell_type": "code",
      "execution_count": null,
      "metadata": {
        "colab": {
          "base_uri": "https://localhost:8080/",
          "height": 74
        },
        "id": "ZZHIG4IRinX4",
        "outputId": "ae3274d7-c0db-430f-b0d6-2445ff2834de"
      },
      "outputs": [],
      "source": [
        "model = DecisionTreeClassifier()\n",
        "model.fit(X_train, y_train)"
      ]
    },
    {
      "cell_type": "code",
      "execution_count": null,
      "metadata": {
        "id": "bUVuchxfjDoz"
      },
      "outputs": [],
      "source": [
        "y_pred = model.predict(X_test)"
      ]
    },
    {
      "cell_type": "code",
      "execution_count": null,
      "metadata": {
        "colab": {
          "base_uri": "https://localhost:8080/"
        },
        "id": "PEslV161jGWO",
        "outputId": "2cc11456-fad4-49b0-85ea-18b28b3ae672"
      },
      "outputs": [],
      "source": [
        "y_pred"
      ]
    },
    {
      "cell_type": "code",
      "execution_count": null,
      "metadata": {
        "colab": {
          "base_uri": "https://localhost:8080/"
        },
        "id": "tFiTKFjujHK8",
        "outputId": "71df399d-fc33-4fc8-9c77-fd62a387ca09"
      },
      "outputs": [],
      "source": [
        "accuracy_score(y_test, y_pred)"
      ]
    },
    {
      "cell_type": "code",
      "execution_count": null,
      "metadata": {
        "colab": {
          "base_uri": "https://localhost:8080/"
        },
        "id": "kKXnOEBQjJKa",
        "outputId": "7b4c04d6-2d7b-4969-de24-13ce5a05674a"
      },
      "outputs": [],
      "source": [
        "balanced_accuracy_score(y_test, y_pred)"
      ]
    },
    {
      "cell_type": "markdown",
      "metadata": {
        "id": "Y7BdqGNwjTwP"
      },
      "source": [
        "## Regresja"
      ]
    },
    {
      "cell_type": "markdown",
      "metadata": {
        "id": "lht1bjo3jcFE"
      },
      "source": [
        "Regresja odnosi się do statystycznej metody modelowania, której celem jest prognozowanie wartości ciągłych na podstawie historycznych danych. Ocena jakości modelu regresyjnego często opiera się na miarach takich jak błąd średniokwadratowy oraz błąd bezwzględny, a optymalizacja parametrów modelu ma kluczowe znaczenie dla jego zdolności do dokładnego przewidywania wartości numerycznych."
      ]
    },
    {
      "cell_type": "markdown",
      "metadata": {
        "id": "NpJrIYJAmAO0"
      },
      "source": [
        "### Regresja liniowa"
      ]
    },
    {
      "cell_type": "markdown",
      "metadata": {
        "id": "vZnF7H36lcco"
      },
      "source": [
        "Użycie metody regresji liniowej w bibliotece Scikit-learn polega na zastosowaniu klasy [LinearRegression](https://scikit-learn.org/stable/modules/generated/sklearn.linear_model.LinearRegression.html), która przyjmuje następujące parametry:\n",
        "- fit_intercept (bool) - dodatkowe środkowanie danych\n",
        "- copy_X (bool) - kopia danych treningowych celem minimalizacji ryzyka zniszczenia oryginału\n",
        "- n_jobs (int) - liczba wątków wykonywanych równolegle\n",
        "- positive (bool) - wymuszenie przyjmowania wyłącznie dodatnich wartości przez współczynniki regresji"
      ]
    },
    {
      "cell_type": "code",
      "execution_count": null,
      "metadata": {
        "id": "vTOj_0WJm2oA"
      },
      "outputs": [],
      "source": [
        "housing_train = pd.read_csv('/content/sample_data/california_housing_train.csv')\n",
        "housing_test = pd.read_csv('/content/sample_data/california_housing_test.csv')"
      ]
    },
    {
      "cell_type": "code",
      "execution_count": null,
      "metadata": {
        "id": "-JffLI9PjLQ0"
      },
      "outputs": [],
      "source": [
        "X_train, y_train = housing_train[list(set(housing_train) - set('median_house_value'))], housing_train['median_house_value']\n",
        "X_test, y_test = housing_test[list(set(housing_test) - set('median_house_value'))], housing_test['median_house_value']"
      ]
    },
    {
      "cell_type": "code",
      "execution_count": null,
      "metadata": {
        "id": "tSwwMeBAnEe2"
      },
      "outputs": [],
      "source": [
        "scaler = MinMaxScaler()\n",
        "scaler.fit(X_train)\n",
        "\n",
        "X_train_scaled = scaler.transform(X_train)\n",
        "X_test_scaled = scaler.transform(X_test)"
      ]
    },
    {
      "cell_type": "code",
      "execution_count": null,
      "metadata": {
        "id": "arcMjzPsnVrp"
      },
      "outputs": [],
      "source": [
        "from sklearn.linear_model import LinearRegression\n",
        "from sklearn.metrics import mean_squared_error, mean_absolute_error\n",
        "\n",
        "from math import sqrt"
      ]
    },
    {
      "cell_type": "code",
      "execution_count": null,
      "metadata": {
        "colab": {
          "base_uri": "https://localhost:8080/",
          "height": 74
        },
        "id": "Gu8lyOIona6r",
        "outputId": "1bef18d4-ae48-412a-8478-0ce0aec43cc1"
      },
      "outputs": [],
      "source": [
        "model = LinearRegression()\n",
        "model.fit(X_train, y_train)"
      ]
    },
    {
      "cell_type": "code",
      "execution_count": null,
      "metadata": {
        "id": "AwdPKl1Knh-4"
      },
      "outputs": [],
      "source": [
        "y_pred = model.predict(X_test)"
      ]
    },
    {
      "cell_type": "code",
      "execution_count": null,
      "metadata": {
        "id": "PlQ7zf86nlaf"
      },
      "outputs": [],
      "source": [
        "mse = mean_squared_error(y_test, y_pred)\n",
        "mae = mean_absolute_error(y_test, y_pred)"
      ]
    },
    {
      "cell_type": "code",
      "execution_count": null,
      "metadata": {
        "colab": {
          "base_uri": "https://localhost:8080/",
          "height": 35
        },
        "id": "IL3g965In-8T",
        "outputId": "1c09f58d-411d-42c3-9864-1ded1caf8916"
      },
      "outputs": [],
      "source": [
        "f'MSE: {mse}, RMSE: {sqrt(mse)}, MAE: {mae}'"
      ]
    },
    {
      "cell_type": "markdown",
      "metadata": {
        "id": "GLYIP96xokVX"
      },
      "source": [
        "### K-NN\n",
        "\n",
        "Algorytm k-nn może być wykorzystywany także w zadaniach regresji, które w przeciwieństwie do klasyfikacji, polega na uśrednianiu wartości przypisanych k najbliższym sąsiadom."
      ]
    },
    {
      "cell_type": "markdown",
      "metadata": {
        "id": "YaXXsDrvpXws"
      },
      "source": [
        "Do realizacji zadania regresji za pomocą algorytmu k najbliższych sąsiadów przeznaczona jest klasa [KNeighborsRegressor](https://scikit-learn.org/stable/modules/generated/sklearn.neighbors.KNeighborsRegressor.html). Parametry pozostają te same, co w przypadku klasy **KNeighborsClassifier**."
      ]
    },
    {
      "cell_type": "code",
      "execution_count": null,
      "metadata": {
        "id": "Wapt9_8Ooj5z"
      },
      "outputs": [],
      "source": [
        "from sklearn.neighbors import KNeighborsRegressor"
      ]
    },
    {
      "cell_type": "code",
      "execution_count": null,
      "metadata": {
        "colab": {
          "base_uri": "https://localhost:8080/",
          "height": 74
        },
        "id": "WLvcr8tDoJjO",
        "outputId": "49db67f3-6015-4161-eaf9-8ebeb0b184c3"
      },
      "outputs": [],
      "source": [
        "model = KNeighborsRegressor()\n",
        "model.fit(X_train, y_train)"
      ]
    },
    {
      "cell_type": "code",
      "execution_count": null,
      "metadata": {
        "id": "2-2lFl-up9mL"
      },
      "outputs": [],
      "source": [
        "y_pred = model.predict(X_test)"
      ]
    },
    {
      "cell_type": "code",
      "execution_count": null,
      "metadata": {
        "id": "2z7iVD5mp_9q"
      },
      "outputs": [],
      "source": [
        "mse = mean_squared_error(y_test, y_pred)\n",
        "mae = mean_absolute_error(y_test, y_pred)"
      ]
    },
    {
      "cell_type": "code",
      "execution_count": null,
      "metadata": {
        "colab": {
          "base_uri": "https://localhost:8080/",
          "height": 35
        },
        "id": "4UFViWRdqCEF",
        "outputId": "f91faabd-76a2-4e78-bb25-e5a65987094b"
      },
      "outputs": [],
      "source": [
        "f'MSE: {mse}, RMSE: {sqrt(mse)}, MAE: {mae}'"
      ]
    },
    {
      "cell_type": "markdown",
      "metadata": {
        "id": "y73ilaH7pt5Q"
      },
      "source": [
        "### Drzewo decyzyjne"
      ]
    },
    {
      "cell_type": "markdown",
      "metadata": {
        "id": "nUWXrfliqvap"
      },
      "source": [
        "Do realizacji zadania regresji za pomocą drzewa decyzyjnego przeznaczona jest klasa [DecisionTreeRegressor](https://scikit-learn.org/stable/modules/generated/sklearn.tree.DecisionTreeRegressor.html). Parametry pozostają te same, co w przypadku klasy **DecisionTreeClassifier**."
      ]
    },
    {
      "cell_type": "code",
      "execution_count": null,
      "metadata": {
        "id": "_Qp2Bq-iq-8d"
      },
      "outputs": [],
      "source": [
        "from sklearn.tree import DecisionTreeRegressor"
      ]
    },
    {
      "cell_type": "code",
      "execution_count": null,
      "metadata": {
        "colab": {
          "base_uri": "https://localhost:8080/",
          "height": 74
        },
        "id": "mITpoAz0rDVr",
        "outputId": "36efa854-0357-404c-f414-2156ae3ca389"
      },
      "outputs": [],
      "source": [
        "model = DecisionTreeRegressor()\n",
        "model.fit(X_train, y_train)"
      ]
    },
    {
      "cell_type": "code",
      "execution_count": null,
      "metadata": {
        "id": "lx-YL7JSrGEr"
      },
      "outputs": [],
      "source": [
        "y_pred = model.predict(X_test)"
      ]
    },
    {
      "cell_type": "code",
      "execution_count": null,
      "metadata": {
        "id": "e8wH7f7qrHcI"
      },
      "outputs": [],
      "source": [
        "mse = mean_squared_error(y_test, y_pred)\n",
        "mae = mean_absolute_error(y_test, y_pred)"
      ]
    },
    {
      "cell_type": "code",
      "execution_count": null,
      "metadata": {
        "colab": {
          "base_uri": "https://localhost:8080/",
          "height": 35
        },
        "id": "pJ2Yv31ErIh_",
        "outputId": "4e30064d-8678-4296-a25f-64177346c7ac"
      },
      "outputs": [],
      "source": [
        "f'MSE: {mse}, RMSE: {sqrt(mse)}, MAE: {mae}'"
      ]
    },
    {
      "cell_type": "markdown",
      "metadata": {
        "id": "8O3Kr8MaoNxA"
      },
      "source": [
        "## Potoki z estymatorami"
      ]
    },
    {
      "cell_type": "code",
      "execution_count": null,
      "metadata": {
        "id": "K68Sd-WrqD7I"
      },
      "outputs": [],
      "source": [
        "from sklearn.pipeline import make_pipeline"
      ]
    },
    {
      "cell_type": "code",
      "execution_count": null,
      "metadata": {
        "id": "AF6gAhbgtpRe"
      },
      "outputs": [],
      "source": [
        "train_pipeline = make_pipeline(\n",
        "    MinMaxScaler(),\n",
        "    LinearRegression(),\n",
        ")"
      ]
    },
    {
      "cell_type": "code",
      "execution_count": null,
      "metadata": {
        "colab": {
          "base_uri": "https://localhost:8080/",
          "height": 124
        },
        "id": "CuKuet5oucia",
        "outputId": "75b2541e-a0c1-4a05-e6f1-baeb338f52ae"
      },
      "outputs": [],
      "source": [
        "train_pipeline.fit(X_train, y_train)"
      ]
    },
    {
      "cell_type": "code",
      "execution_count": null,
      "metadata": {
        "id": "6Jhwgg8sugZK"
      },
      "outputs": [],
      "source": [
        "y_pred = train_pipeline.predict(X_test)"
      ]
    },
    {
      "cell_type": "code",
      "execution_count": null,
      "metadata": {
        "id": "GFYZToBtupuu"
      },
      "outputs": [],
      "source": [
        "mse = mean_squared_error(y_test, y_pred)\n",
        "mae = mean_absolute_error(y_test, y_pred)"
      ]
    },
    {
      "cell_type": "code",
      "execution_count": null,
      "metadata": {
        "colab": {
          "base_uri": "https://localhost:8080/",
          "height": 35
        },
        "id": "_xxXLfZoutHI",
        "outputId": "f104f4d8-abbf-4c56-e316-e3c26f09742a"
      },
      "outputs": [],
      "source": [
        "f'MSE: {mse}, RMSE: {sqrt(mse)}, MAE: {mae}'"
      ]
    },
    {
      "cell_type": "markdown",
      "metadata": {
        "id": "378q_PxFm6Pg"
      },
      "source": [
        "## Zadania\n",
        "1. Korzystając ze zbioru danych `mnist` sprawdzić interfejsy następujących klasyfikatorów:\n",
        "  - Regresja Logistyczna: [LogisticRegression](https://scikit-learn.org/stable/modules/generated/sklearn.linear_model.LogisticRegression.html#sklearn.linear_model.LogisticRegression)\n",
        "  - Liniowa Maszyna Wektorów Nośnych: [LinearSVC](https://scikit-learn.org/stable/modules/generated/sklearn.svm.LinearSVC.html#sklearn.svm.LinearSVC).\n",
        "  \n",
        "  Porównać wyniki dokładności globalnej i zbalansowanej.\n",
        "2. Korzystając ze zbioru danych `CaliforniaHousing` sprawdzić interfejsy następujących regresorów:\n",
        "  - Regresja Bayesowska: [BayesianRidge](https://scikit-learn.org/stable/modules/generated/sklearn.linear_model.BayesianRidge.html#sklearn.linear_model.BayesianRidge)\n",
        "  - Regresor Wektorów Nośnych: [SVR](https://scikit-learn.org/stable/modules/generated/sklearn.svm.SVR.html#sklearn.svm.SVR).\n",
        "  \n",
        "  Porównać wyniki błędu średniokwadratowego i jego pierwiastka oraz średniego błędu bezwzględnego."
      ]
    },
    {
      "cell_type": "code",
      "execution_count": null,
      "metadata": {
        "id": "jfEOB_n3utq7"
      },
      "outputs": [],
      "source": []
    }
  ],
  "metadata": {
    "colab": {
      "provenance": []
    },
    "kernelspec": {
      "display_name": "Python 3",
      "name": "python3"
    },
    "language_info": {
      "name": "python"
    }
  },
  "nbformat": 4,
  "nbformat_minor": 0
}
